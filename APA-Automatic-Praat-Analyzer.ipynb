{
 "cells": [
  {
   "cell_type": "code",
   "execution_count": 6,
   "id": "53b25e9c",
   "metadata": {},
   "outputs": [],
   "source": [
    "# Libraries needed (if error, check installation)"
   ]
  },
  {
   "cell_type": "code",
   "execution_count": 1,
   "id": "b64a8294",
   "metadata": {},
   "outputs": [],
   "source": [
    "import parselmouth\n",
    "import numpy as np\n",
    "import pandas as pd\n",
    "import matplotlib.pyplot as plt\n",
    "import seaborn as sns"
   ]
  },
  {
   "cell_type": "code",
   "execution_count": 3,
   "id": "2c951df9",
   "metadata": {},
   "outputs": [],
   "source": [
    "# Set size and style of plots\n",
    "\n",
    "sns.set()\n",
    "plt.rcParams['figure.dpi'] = 100 "
   ]
  },
  {
   "cell_type": "markdown",
   "id": "93ded719",
   "metadata": {},
   "source": [
    "# Sound Wave Block"
   ]
  },
  {
   "cell_type": "code",
   "execution_count": null,
   "id": "8b04c47f",
   "metadata": {},
   "outputs": [],
   "source": [
    "# Load speech\n",
    "\n",
    "# Paste the directory of the sound\n",
    "\n",
    "snd = parselmouth.Sound(\"DIRECTORY HERE\")\n",
    "\n",
    "# Plot soundwave\n",
    "\n",
    "plt.figure()\n",
    "plt.plot(snd.xs(), snd.values.T, linewidth=0.4)\n",
    "plt.xlim([snd.xmin, snd.xmax])\n",
    "plt.xlabel(\"time [s]\", fontname=\"Times New Roman\")\n",
    "plt.ylabel(\"amplitude\", fontname=\"Times New Roman\")\n",
    "plt.xticks(fontname=\"Times New Roman\")\n",
    "plt.yticks(fontname=\"Times New Roman\")\n",
    "plt.show()"
   ]
  },
  {
   "cell_type": "markdown",
   "id": "dabd57cf",
   "metadata": {},
   "source": [
    "# Sound Wave Part Block"
   ]
  },
  {
   "cell_type": "code",
   "execution_count": null,
   "id": "e4b52052",
   "metadata": {},
   "outputs": [],
   "source": [
    "# Plot a part of the sound file\n",
    "# From_time is used to select the starting point\n",
    "\n",
    "snd_part = snd.extract_part(from_time=0.0, preserve_times=True)\n",
    "\n",
    "plt.figure()\n",
    "plt.plot(snd_part.xs(), snd_part.values.T, linewidth=0.4)\n",
    "plt.xlim([snd_part.xmin, snd_part.xmax])\n",
    "plt.xlabel(\"time [ms]\", fontname=\"Times New Roman\")\n",
    "plt.ylabel(\"amplitude\", fontname=\"Times New Roman\")\n",
    "plt.xticks(fontname=\"Times New Roman\")\n",
    "plt.yticks(fontname=\"Times New Roman\")\n",
    "plt.show()"
   ]
  },
  {
   "cell_type": "markdown",
   "id": "38b87e99",
   "metadata": {},
   "source": [
    "# Spectogram and Intensity Block"
   ]
  },
  {
   "cell_type": "code",
   "execution_count": null,
   "id": "9f234fd1",
   "metadata": {},
   "outputs": [],
   "source": [
    "#Get and plot spectrogram and intensity\n",
    "\n",
    "def draw_spectrogram(spectrogram, dynamic_range=70):\n",
    "    X, Y = spectrogram.x_grid(), spectrogram.y_grid()\n",
    "    sg_db = 10 * np.log10(spectrogram.values)\n",
    "    \n",
    "    plt.pcolormesh(X, Y, sg_db, vmin=sg_db.max() - dynamic_range, cmap='afmhot')\n",
    "    plt.ylim([spectrogram.ymin, spectrogram.ymax])\n",
    "    plt.xlabel(\"time [s]\", fontname=\"Times New Roman\", fontsize=10)\n",
    "    plt.ylabel(\"Frequency [Hz]\", fontname=\"Times New Roman\", fontsize=10)\n",
    "    plt.xticks(fontname=\"Times New Roman\")\n",
    "    plt.yticks(fontname=\"Times New Roman\")\n",
    "\n",
    "def draw_intensity(intensity):\n",
    "    plt.plot(intensity.xs(), intensity.values.T, linewidth=3, color='w')\n",
    "    plt.plot(intensity.xs(), intensity.values.T, linewidth=2, color='b')\n",
    "    plt.grid(False)\n",
    "    plt.ylim(10)\n",
    "    plt.ylabel(\"intensity [dB]\", fontname=\"Times New Roman\", fontsize=10)\n",
    "    plt.xticks(fontname=\"Times New Roman\")\n",
    "    plt.yticks(fontname=\"Times New Roman\")\n",
    "\n",
    "intensity = snd.to_intensity()\n",
    "spectrogram = snd.to_spectrogram(maximum_frequency=8000)\n",
    "\n",
    "plt.figure()\n",
    "draw_spectrogram(spectrogram)\n",
    "plt.twinx()\n",
    "draw_intensity(intensity)\n",
    "plt.xlim([snd.xmin, snd.xmax])\n",
    "plt.show()"
   ]
  },
  {
   "cell_type": "markdown",
   "id": "3b66fc02",
   "metadata": {},
   "source": [
    "# Pitch Block"
   ]
  },
  {
   "cell_type": "code",
   "execution_count": null,
   "id": "1e3f3716",
   "metadata": {},
   "outputs": [],
   "source": [
    "# Get and plot pitch\n",
    "\n",
    "def draw_pitch(pitch):\n",
    "    pitch_values = pitch.selected_array['frequency']\n",
    "    pitch_values[pitch_values==0] = np.nan\n",
    "\n",
    "    plt.plot(pitch.xs(), pitch_values, 'o', markersize=3, color='w')\n",
    "    plt.plot(pitch.xs(), pitch_values, 'o', markersize=2, color='b')\n",
    "    plt.grid(False)\n",
    "    plt.ylim(-20, pitch.ceiling)\n",
    "    plt.ylabel(\"fundamental frequency [Hz]\", fontname=\"Times New Roman\", fontsize=10)\n",
    "    plt.xticks(fontname=\"Times New Roman\")\n",
    "    plt.yticks(fontname=\"Times New Roman\")\n",
    "\n",
    "pitch = snd.to_pitch()\n",
    "\n",
    "#pre-emphasize the sound fragment\n",
    "pre_emphasized_snd = snd.copy()\n",
    "pre_emphasized_snd.pre_emphasize()\n",
    "spectrogram = pre_emphasized_snd.to_spectrogram(window_length=0.01, maximum_frequency=8000)\n",
    "\n",
    "plt.figure()\n",
    "draw_spectrogram(spectrogram)\n",
    "plt.twinx()\n",
    "draw_pitch(pitch)\n",
    "plt.xlim([snd.xmin, snd.xmax])\n",
    "plt.show()"
   ]
  }
 ],
 "metadata": {
  "kernelspec": {
   "display_name": "Python 3 (ipykernel)",
   "language": "python",
   "name": "python3"
  },
  "language_info": {
   "codemirror_mode": {
    "name": "ipython",
    "version": 3
   },
   "file_extension": ".py",
   "mimetype": "text/x-python",
   "name": "python",
   "nbconvert_exporter": "python",
   "pygments_lexer": "ipython3",
   "version": "3.11.1"
  }
 },
 "nbformat": 4,
 "nbformat_minor": 5
}
